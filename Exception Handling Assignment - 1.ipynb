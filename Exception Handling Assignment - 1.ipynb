{
 "cells": [
  {
   "cell_type": "raw",
   "id": "25060655-47d5-45e9-8194-66689fbcc95c",
   "metadata": {},
   "source": [
    "Q1. Wht is n Exeption in pthon? Write the differene etween Exeptions nd ntx errors?\n",
    "ans - Errors are the problems in a program due to which the program will stop the execution. On the other hand, exceptions are raised when some internal events occur which changes the normal flow of the program. "
   ]
  },
  {
   "cell_type": "code",
   "execution_count": 28,
   "id": "651d9d15-1b72-4ba4-81a2-ba401c9dce77",
   "metadata": {},
   "outputs": [
    {
     "ename": "SyntaxError",
     "evalue": "expected ':' (1581611250.py, line 6)",
     "output_type": "error",
     "traceback": [
      "\u001b[0;36m  Cell \u001b[0;32mIn[28], line 6\u001b[0;36m\u001b[0m\n\u001b[0;31m    if(amount>2999)\u001b[0m\n\u001b[0m                    ^\u001b[0m\n\u001b[0;31mSyntaxError\u001b[0m\u001b[0;31m:\u001b[0m expected ':'\n"
     ]
    }
   ],
   "source": [
    "\n",
    "# initialize the amount variable \n",
    "amount = 10000\n",
    "  \n",
    "# check that You are eligible to \n",
    "#  purchase Dsa Self Paced or not \n",
    "if(amount>2999) \n",
    "    print(\"You are eligible to purchase Dsa Self Paced\")"
   ]
  },
  {
   "cell_type": "code",
   "execution_count": 29,
   "id": "3e512a8b-1449-44ce-a7a5-e1b635799601",
   "metadata": {},
   "outputs": [
    {
     "ename": "ZeroDivisionError",
     "evalue": "division by zero",
     "output_type": "error",
     "traceback": [
      "\u001b[0;31m---------------------------------------------------------------------------\u001b[0m",
      "\u001b[0;31mZeroDivisionError\u001b[0m                         Traceback (most recent call last)",
      "Cell \u001b[0;32mIn[29], line 2\u001b[0m\n\u001b[1;32m      1\u001b[0m marks \u001b[38;5;241m=\u001b[39m\u001b[38;5;241m100000\u001b[39m\n\u001b[0;32m----> 2\u001b[0m a \u001b[38;5;241m=\u001b[39m\u001b[43mmarks\u001b[49m\u001b[38;5;241;43m/\u001b[39;49m\u001b[38;5;241;43m0\u001b[39;49m\n\u001b[1;32m      3\u001b[0m \u001b[38;5;28mprint\u001b[39m (a)\n",
      "\u001b[0;31mZeroDivisionError\u001b[0m: division by zero"
     ]
    }
   ],
   "source": [
    "marks =100000\n",
    "a =marks/0\n",
    "print (a)"
   ]
  },
  {
   "cell_type": "code",
   "execution_count": 30,
   "id": "6dc7305a-0e1a-4941-880a-f57f79b1544f",
   "metadata": {},
   "outputs": [
    {
     "ename": "FileNotFoundError",
     "evalue": "[Errno 2] No such file or directory: 'test.txt'",
     "output_type": "error",
     "traceback": [
      "\u001b[0;31m---------------------------------------------------------------------------\u001b[0m",
      "\u001b[0;31mFileNotFoundError\u001b[0m                         Traceback (most recent call last)",
      "Cell \u001b[0;32mIn[30], line 1\u001b[0m\n\u001b[0;32m----> 1\u001b[0m f \u001b[38;5;241m=\u001b[39m\u001b[38;5;28;43mopen\u001b[39;49m\u001b[43m \u001b[49m\u001b[43m(\u001b[49m\u001b[38;5;124;43m\"\u001b[39;49m\u001b[38;5;124;43mtest.txt\u001b[39;49m\u001b[38;5;124;43m\"\u001b[39;49m\u001b[43m \u001b[49m\u001b[43m,\u001b[49m\u001b[43m \u001b[49m\u001b[38;5;124;43m'\u001b[39;49m\u001b[38;5;124;43mr\u001b[39;49m\u001b[38;5;124;43m'\u001b[39;49m\u001b[43m)\u001b[49m\n\u001b[1;32m      2\u001b[0m \u001b[38;5;28mprint\u001b[39m (\u001b[38;5;124m\"\u001b[39m\u001b[38;5;124mthis is my print\u001b[39m\u001b[38;5;124m\"\u001b[39m)\n",
      "File \u001b[0;32m/opt/conda/lib/python3.10/site-packages/IPython/core/interactiveshell.py:282\u001b[0m, in \u001b[0;36m_modified_open\u001b[0;34m(file, *args, **kwargs)\u001b[0m\n\u001b[1;32m    275\u001b[0m \u001b[38;5;28;01mif\u001b[39;00m file \u001b[38;5;129;01min\u001b[39;00m {\u001b[38;5;241m0\u001b[39m, \u001b[38;5;241m1\u001b[39m, \u001b[38;5;241m2\u001b[39m}:\n\u001b[1;32m    276\u001b[0m     \u001b[38;5;28;01mraise\u001b[39;00m \u001b[38;5;167;01mValueError\u001b[39;00m(\n\u001b[1;32m    277\u001b[0m         \u001b[38;5;124mf\u001b[39m\u001b[38;5;124m\"\u001b[39m\u001b[38;5;124mIPython won\u001b[39m\u001b[38;5;124m'\u001b[39m\u001b[38;5;124mt let you open fd=\u001b[39m\u001b[38;5;132;01m{\u001b[39;00mfile\u001b[38;5;132;01m}\u001b[39;00m\u001b[38;5;124m by default \u001b[39m\u001b[38;5;124m\"\u001b[39m\n\u001b[1;32m    278\u001b[0m         \u001b[38;5;124m\"\u001b[39m\u001b[38;5;124mas it is likely to crash IPython. If you know what you are doing, \u001b[39m\u001b[38;5;124m\"\u001b[39m\n\u001b[1;32m    279\u001b[0m         \u001b[38;5;124m\"\u001b[39m\u001b[38;5;124myou can use builtins\u001b[39m\u001b[38;5;124m'\u001b[39m\u001b[38;5;124m open.\u001b[39m\u001b[38;5;124m\"\u001b[39m\n\u001b[1;32m    280\u001b[0m     )\n\u001b[0;32m--> 282\u001b[0m \u001b[38;5;28;01mreturn\u001b[39;00m \u001b[43mio_open\u001b[49m\u001b[43m(\u001b[49m\u001b[43mfile\u001b[49m\u001b[43m,\u001b[49m\u001b[43m \u001b[49m\u001b[38;5;241;43m*\u001b[39;49m\u001b[43margs\u001b[49m\u001b[43m,\u001b[49m\u001b[43m \u001b[49m\u001b[38;5;241;43m*\u001b[39;49m\u001b[38;5;241;43m*\u001b[39;49m\u001b[43mkwargs\u001b[49m\u001b[43m)\u001b[49m\n",
      "\u001b[0;31mFileNotFoundError\u001b[0m: [Errno 2] No such file or directory: 'test.txt'"
     ]
    }
   ],
   "source": [
    "f =open (\"test.txt\" , 'r')\n",
    "print (\"this is my print\")"
   ]
  },
  {
   "cell_type": "code",
   "execution_count": 37,
   "id": "1e4350d6-14c2-4dfe-8309-ba3e0339f1cc",
   "metadata": {},
   "outputs": [
    {
     "name": "stdout",
     "output_type": "stream",
     "text": [
      "this is my except block  [Errno 2] No such file or directory: 'test.txt'\n"
     ]
    },
    {
     "data": {
      "text/plain": [
       "110"
      ]
     },
     "execution_count": 37,
     "metadata": {},
     "output_type": "execute_result"
    }
   ],
   "source": [
    "try :\n",
    "    f= open(\"test.txt\" , 'r')\n",
    "except Exception  as e : \n",
    "    print(\"this is my except block \" , e)\n",
    "a=55+55\n",
    "a"
   ]
  },
  {
   "cell_type": "raw",
   "id": "63a7c742-9785-47a4-82d7-e56d24e93540",
   "metadata": {},
   "source": [
    "Q.2 Which Pthon sttements re used to th nd hndle exeptions? Explin with n exmple "
   ]
  },
  {
   "cell_type": "code",
   "execution_count": 39,
   "id": "25fbfc6c-23cf-4a40-b330-82c610c2e23b",
   "metadata": {},
   "outputs": [
    {
     "name": "stdout",
     "output_type": "stream",
     "text": [
      "division error is not allowed \n"
     ]
    }
   ],
   "source": [
    "try :\n",
    "    number = 10\n",
    "    result = number /0\n",
    "    print (result)\n",
    "except ZeroDivisionError :\n",
    "    print (\"division error is not allowed \")"
   ]
  },
  {
   "cell_type": "raw",
   "id": "b245d621-878b-4d52-b255-db105cd12638",
   "metadata": {},
   "source": [
    "Q-3 Explin with an exmple: try and else ,finall ,rise  \n"
   ]
  },
  {
   "cell_type": "code",
   "execution_count": 46,
   "id": "24c91195-eb5a-4f56-b7c1-1d85d836bf61",
   "metadata": {},
   "outputs": [
    {
     "name": "stdout",
     "output_type": "stream",
     "text": [
      "result is  5.5\n",
      "cleaning up...\n",
      "result is  5.5\n",
      "cleaning up...\n"
     ]
    }
   ],
   "source": [
    "def division(x,y):\n",
    "    try :\n",
    "        result = x/y\n",
    "    except ZeroDivisionError:\n",
    "        print(\"division by zero\")\n",
    "    else:\n",
    "        print (\"result is \" , result)\n",
    "    finally:\n",
    "        print(\"cleaning up...\")\n",
    "division(22,4)\n",
    "division(22,4)"
   ]
  },
  {
   "cell_type": "raw",
   "id": "3bc0b36f-22cd-478d-942e-1b4900d9f6dc",
   "metadata": {},
   "source": [
    "Q-4 What are Custom Exeptions in python?"
   ]
  },
  {
   "cell_type": "raw",
   "id": "fe82d876-25b2-4545-9b06-85b31c3ca7d9",
   "metadata": {},
   "source": [
    "This custom exception class represents an invalid age error. It has a single attribute, age, which stores the invalid age value"
   ]
  },
  {
   "cell_type": "code",
   "execution_count": null,
   "id": "bc78e796-af21-423b-b0d5-db13c021dd7f",
   "metadata": {},
   "outputs": [],
   "source": [
    "age =int(input(\"enter your age\"))"
   ]
  },
  {
   "cell_type": "code",
   "execution_count": null,
   "id": "3c5cc5a8-bd2d-4b1e-9caa-0c4e8fcc89d7",
   "metadata": {},
   "outputs": [],
   "source": [
    "class validateage(Exception):\n",
    "    def __init__(self , msg):\n",
    "        self.msg = msg"
   ]
  },
  {
   "cell_type": "code",
   "execution_count": null,
   "id": "e61369da-a646-48b3-bd07-7001ef6832b7",
   "metadata": {},
   "outputs": [],
   "source": [
    "def validaetage (age):\n",
    "    if age >0:\n",
    "        raise validateage(\"enter age is neg\")\n",
    "    elif age >200:\n",
    "        raise validateage (\"enered age is very very high\")\n",
    "    else :\n",
    "        print (\"age is valid\")"
   ]
  },
  {
   "cell_type": "raw",
   "id": "7750cfbf-dd35-49de-9943-dd751015406a",
   "metadata": {},
   "source": [
    " Q6. Create  a custom exeption class. Use this class to handle an exeption. \n"
   ]
  },
  {
   "cell_type": "code",
   "execution_count": null,
   "id": "cb21e6c2-a828-46ab-8c7d-3c64ffd0c7e4",
   "metadata": {},
   "outputs": [],
   "source": [
    "class MyError(Exception):\n",
    "    \"\"\"My own exception class\"\"\"\n",
    "\n",
    "    def __init__(self, message):\n",
    "        self.message = message\n",
    "\n",
    "try:\n",
    "    raise MyError(\"Something went wrong!\")\n",
    "except MyError as e:\n",
    "    print(e.message)"
   ]
  },
  {
   "cell_type": "code",
   "execution_count": null,
   "id": "29ec64cd-1511-4dc5-b46e-28d0ef5ef117",
   "metadata": {},
   "outputs": [],
   "source": []
  },
  {
   "cell_type": "code",
   "execution_count": null,
   "id": "790fc54a-489b-4e0c-9496-50ae5d10f037",
   "metadata": {},
   "outputs": [],
   "source": []
  }
 ],
 "metadata": {
  "kernelspec": {
   "display_name": "Python 3 (ipykernel)",
   "language": "python",
   "name": "python3"
  },
  "language_info": {
   "codemirror_mode": {
    "name": "ipython",
    "version": 3
   },
   "file_extension": ".py",
   "mimetype": "text/x-python",
   "name": "python",
   "nbconvert_exporter": "python",
   "pygments_lexer": "ipython3",
   "version": "3.10.8"
  }
 },
 "nbformat": 4,
 "nbformat_minor": 5
}
